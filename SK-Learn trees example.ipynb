{
  "nbformat": 4,
  "nbformat_minor": 0,
  "metadata": {
    "colab": {
      "provenance": []
    },
    "kernelspec": {
      "name": "python3",
      "display_name": "Python 3"
    },
    "language_info": {
      "name": "python"
    }
  },
  "cells": [
    {
      "cell_type": "code",
      "execution_count": null,
      "metadata": {
        "id": "GEza9_OcYhX5"
      },
      "outputs": [],
      "source": [
        "import numpy as np\n",
        "import pandas as pd\n",
        "from sklearn.tree import DecisionTreeClassifier\n",
        "from sklearn.model_selection import train_test_split\n",
        "from sklearn.metrics import accuracy_score\n",
        "from joblib import dump, load"
      ]
    },
    {
      "cell_type": "markdown",
      "source": [
        "Importing the Data"
      ],
      "metadata": {
        "id": "5zdAwPf6nxNq"
      }
    },
    {
      "cell_type": "code",
      "source": [
        "df = pd.read_csv('/content/music.csv')\n",
        "print(df.head())\n",
        "print(df.shape)"
      ],
      "metadata": {
        "id": "etMJiaP4nh4U"
      },
      "execution_count": null,
      "outputs": []
    },
    {
      "cell_type": "markdown",
      "source": [
        "Preparing the Data"
      ],
      "metadata": {
        "id": "XRetV4Ueibt7"
      }
    },
    {
      "cell_type": "code",
      "source": [
        "x = df.drop(columns=['genre']) #input\n",
        "y = df['genre'] #ouput\n",
        "x_train, x_test, y_train, y_test = train_test_split(x,y, test_size=0.2)"
      ],
      "metadata": {
        "id": "jxZ9gHIsa-55"
      },
      "execution_count": null,
      "outputs": []
    },
    {
      "cell_type": "markdown",
      "source": [
        "Model Training"
      ],
      "metadata": {
        "id": "aZRNCvRenafG"
      }
    },
    {
      "cell_type": "code",
      "source": [
        "model = DecisionTreeClassifier()\n",
        "model.fit(x_train, y_train)\n"
      ],
      "metadata": {
        "id": "4inyaE8qnenO"
      },
      "execution_count": null,
      "outputs": []
    },
    {
      "cell_type": "code",
      "source": [
        "list((model.predict([[21,1]]))) #prediction on new data point\n"
      ],
      "metadata": {
        "id": "RAMAce6joi8-"
      },
      "execution_count": null,
      "outputs": []
    },
    {
      "cell_type": "code",
      "source": [
        "dump(model, 'name') # saving the trained model on collab. can\n",
        "                         # use joblib.load('name') to load it."
      ],
      "metadata": {
        "colab": {
          "base_uri": "https://localhost:8080/"
        },
        "id": "SEBg7AeQsnQ3",
        "outputId": "2a61ea47-0034-4555-865a-ce18f2d3ed05"
      },
      "execution_count": null,
      "outputs": [
        {
          "output_type": "execute_result",
          "data": {
            "text/plain": [
              "['name']"
            ]
          },
          "metadata": {},
          "execution_count": 56
        }
      ]
    },
    {
      "cell_type": "markdown",
      "source": [
        "Accuracy Measures"
      ],
      "metadata": {
        "id": "8WmnUSNmpeEd"
      }
    },
    {
      "cell_type": "code",
      "source": [
        "predictions = model.predict(x_test)\n",
        "accuracy_score(y_test, predictions)"
      ],
      "metadata": {
        "id": "2mpHRYzGpgy6"
      },
      "execution_count": null,
      "outputs": []
    }
  ]
}
