{
  "nbformat": 4,
  "nbformat_minor": 0,
  "metadata": {
    "colab": {
      "provenance": [],
      "gpuType": "T4",
      "authorship_tag": "ABX9TyM6oHjDTgMk1TwwvzYpkqpE",
      "include_colab_link": true
    },
    "kernelspec": {
      "name": "python3",
      "display_name": "Python 3"
    },
    "language_info": {
      "name": "python"
    }
  },
  "cells": [
    {
      "cell_type": "markdown",
      "metadata": {
        "id": "view-in-github",
        "colab_type": "text"
      },
      "source": [
        "<a href=\"https://colab.research.google.com/github/Yuval-Br/YuvRep/blob/main/Pytorch_basics.ipynb\" target=\"_parent\"><img src=\"https://colab.research.google.com/assets/colab-badge.svg\" alt=\"Open In Colab\"/></a>"
      ]
    },
    {
      "cell_type": "code",
      "execution_count": 4,
      "metadata": {
        "id": "49uT3OgGYciS"
      },
      "outputs": [],
      "source": [
        "import numpy as np\n",
        "import torch\n",
        "import torch.nn as nn\n",
        "from torch.utils.data import DataLoader\n",
        "from torchvision import datasets, transforms\n",
        "from torchvision.utils import make_grid\n",
        "import torch.nn.functional as f\n",
        "import matplotlib.pyplot as plt\n",
        "import pandas as pd\n",
        "from sklearn.model_selection import train_test_split\n",
        "from sklearn.metrics import confusion_matrix\n",
        "\n"
      ]
    },
    {
      "cell_type": "markdown",
      "source": [
        "Tensors - The Pytorch array"
      ],
      "metadata": {
        "id": "zp5OmHAYbOQY"
      }
    },
    {
      "cell_type": "code",
      "source": [
        "tensor_2d = torch.randn(3,4)\n",
        "\n",
        "tensor_3d = torch.randn(2,4,3)  # matrices, rows in each, cols in each\n",
        "\n",
        "a = np.array([2,3,4])\n",
        "at = torch.tensor(a) # convert np to tensor\n",
        "\n",
        "t1 = torch.tensor([[1,2,3],[1,4,2]]) # from a list\n"
      ],
      "metadata": {
        "id": "4MV2dWqsbRCz"
      },
      "execution_count": null,
      "outputs": []
    },
    {
      "cell_type": "markdown",
      "source": [
        "Basic Tensor Operations"
      ],
      "metadata": {
        "id": "k8lQPsIldLly"
      }
    },
    {
      "cell_type": "code",
      "source": [
        "# shaping\n",
        "te = torch.arange(10)\n",
        "te1 = te.reshape(5,2) # reshape like np\n",
        "te2 = te.reshape(2,-1) # reshape into a 2 row matrix without knowing number elements, using -1.\n",
        "# changes to te affect te1, te2."
      ],
      "metadata": {
        "id": "ovoHlLP3dOv0"
      },
      "execution_count": null,
      "outputs": []
    },
    {
      "cell_type": "code",
      "source": [
        "# slicing\n",
        "te[6] # returns a tensor\n",
        "tensor_2d[:,2] # all rows the 2 col, in a 1d tensor\n",
        "tensor_3d[1,1:4,1] # first matrix, 1 to 3 rows, 1 col."
      ],
      "metadata": {
        "colab": {
          "base_uri": "https://localhost:8080/"
        },
        "id": "GdlA1dcce0Dy",
        "outputId": "4b170859-06db-4ccb-eb65-cca0b4c02af1"
      },
      "execution_count": null,
      "outputs": [
        {
          "output_type": "execute_result",
          "data": {
            "text/plain": [
              "tensor([-1.0032, -0.7666,  0.1413])"
            ]
          },
          "metadata": {},
          "execution_count": 4
        }
      ]
    },
    {
      "cell_type": "code",
      "source": [
        "ta = torch.tensor([1,2,3,4])\n",
        "tb = torch.tensor([1,2,4,6])\n",
        "ta + tb , torch.add(ta,tb) # addition, in 2 ways.\n",
        "ta - tb, torch.sub(ta,tb) # subtraction\n",
        "ta*tb, torch.mul(ta,tb) # element multiply\n",
        "ta/tb, torch.div(ta,tb) # div\n",
        "ta % tb, torch.remainder(ta,tb) # ta mod tb, elementwise.\n",
        "torch.pow(ta,tb) # ta^tb, element wise.\n",
        "ta.pow(tb) # same\n",
        "\n",
        "# broadcasting like np:\n",
        "ta.pow(2)\n",
        "torch.tensor([1,2,3]) + torch.tensor([[0,0,0],[1,2,3]])"
      ],
      "metadata": {
        "id": "E1foR9Hdgip6",
        "colab": {
          "base_uri": "https://localhost:8080/"
        },
        "outputId": "84cc64c8-cfc3-43e6-87e0-1068abf335b7"
      },
      "execution_count": null,
      "outputs": [
        {
          "output_type": "execute_result",
          "data": {
            "text/plain": [
              "tensor([[1, 2, 3],\n",
              "        [2, 4, 6]])"
            ]
          },
          "metadata": {},
          "execution_count": 5
        }
      ]
    },
    {
      "cell_type": "markdown",
      "source": [
        "Basic Neural Network"
      ],
      "metadata": {
        "id": "KHl6PiVbkxJF"
      }
    },
    {
      "cell_type": "code",
      "source": [
        "# creating the class for a specific model (for iris data set(n=4, Labels=3)):\n",
        "class Model(nn.Module):\n",
        "  # Input layer (4 features) -->FC\n",
        "  # Hidden layer 1 (8 neurons) -->relu,FC\n",
        "  # Hidden layer 2 (8 neurons) -->relu,FC\n",
        "  # Output layer (3 labels)\n",
        "  def __init__(self,in_features=4,h1=8,h2=8, out_features=3):\n",
        "    super().__init__()\n",
        "    self.fc1 = nn.Linear(in_features,h1)\n",
        "    self.fc2 = nn.Linear(h1,h2)\n",
        "    self.out = nn.Linear(h2,out_features)\n",
        "  def forward(self,x):\n",
        "    x = f.relu(self.fc1(x))\n",
        "    x = f.relu(self.fc2(x))\n",
        "    x = self.out(x)\n",
        "\n",
        "    return x\n",
        "\n"
      ],
      "metadata": {
        "id": "f9yFufdBk1LF"
      },
      "execution_count": null,
      "outputs": []
    },
    {
      "cell_type": "code",
      "source": [
        "model = Model()"
      ],
      "metadata": {
        "id": "5sPD4oG3-OxP"
      },
      "execution_count": null,
      "outputs": []
    },
    {
      "cell_type": "code",
      "source": [
        "# Loading, Preparing the Data\n",
        "iris = pd.read_csv('https://gist.githubusercontent.com/curran/a08a1080b88344b0c8a7/raw/0e7a9b0a5d22642a06d3d5b9bcbad9890c8ee534/iris.csv')\n",
        "iris['species'] = iris['species'].replace('setosa', 0)\n",
        "iris['species'] = iris['species'].replace('versicolor', 1)\n",
        "iris['species'] = iris['species'].replace('virginica', 2)\n",
        "x = iris.drop(columns='species').values\n",
        "y = iris['species'].values"
      ],
      "metadata": {
        "id": "Svz2wTpah5Ib"
      },
      "execution_count": null,
      "outputs": []
    },
    {
      "cell_type": "code",
      "source": [
        "# Splitting Data, converting to tensors.\n",
        "x_train,x_test,y_train,y_test = train_test_split(x,y,test_size=0.1)\n",
        "x_train = torch.FloatTensor(x_train)\n",
        "x_test = torch.FloatTensor(x_test)\n",
        "y_train = torch.LongTensor(y_train)\n",
        "y_test = torch.LongTensor(y_test)"
      ],
      "metadata": {
        "id": "N9d8m0Ugjpdf"
      },
      "execution_count": null,
      "outputs": []
    },
    {
      "cell_type": "code",
      "source": [
        "criterion = nn.CrossEntropyLoss()  # loss function.\n",
        "optimizer = torch.optim.Adam(model.parameters(), lr=0.01)  # optimizer and learning rate."
      ],
      "metadata": {
        "id": "OvoLeDsom4E3"
      },
      "execution_count": null,
      "outputs": []
    },
    {
      "cell_type": "code",
      "source": [
        "# training\n",
        "epochs = 100  # in each epoch we run through the data (SGD)\n",
        "losses = [] # the loss in each epoch\n",
        "for i in range(epochs):\n",
        "  y_pred = model.forward(x_train) # current model prediction\n",
        "  loss = criterion(y_pred,y_train) # the loss\n",
        "  losses.append(loss.detach().numpy()) # add to the list\n",
        "  optimizer.zero_grad() # Backprop\n",
        "  loss.backward()\n",
        "  optimizer.step()\n",
        "\n"
      ],
      "metadata": {
        "id": "u4XQkbq5n7eN"
      },
      "execution_count": null,
      "outputs": []
    },
    {
      "cell_type": "code",
      "source": [
        "plt.plot(range(epochs),losses) # plott the loss decrease in epochs"
      ],
      "metadata": {
        "id": "G6irGbAIqcms"
      },
      "execution_count": null,
      "outputs": []
    },
    {
      "cell_type": "code",
      "source": [
        "# test data eval:\n",
        "with torch.no_grad(): # turn off backprop\n",
        "  y_eval = model.forward(x_test)\n",
        "  loss_test = criterion(y_eval,y_test)\n",
        "\n",
        "loss_test\n",
        "\n"
      ],
      "metadata": {
        "id": "GMpD1DKjriIe"
      },
      "execution_count": null,
      "outputs": []
    },
    {
      "cell_type": "code",
      "source": [
        "# count how much we got right from test set\n",
        "correct= 0\n",
        "with torch.no_grad():\n",
        "  for i, data in enumerate(x_test):\n",
        "    y_val = model.forward(data)\n",
        "    if y_val.argmax().item() == y_test[i]:\n",
        "      correct += 1\n",
        "\n",
        "correct\n"
      ],
      "metadata": {
        "id": "pgEiAb2vsS8j"
      },
      "execution_count": null,
      "outputs": []
    },
    {
      "cell_type": "code",
      "source": [
        "# evaluating on new data\n",
        "new = torch.tensor([4.7,3.2,1.3,0.2])\n",
        "print(model(new)) # largest value is the pred label.\n"
      ],
      "metadata": {
        "id": "T08tCM8Fue7Q"
      },
      "execution_count": null,
      "outputs": []
    },
    {
      "cell_type": "code",
      "source": [
        "# save the model\n",
        "torch.save(model.state_dict(), 'iris_model.pt')"
      ],
      "metadata": {
        "id": "x7-8SmDK0CPK"
      },
      "execution_count": null,
      "outputs": []
    },
    {
      "cell_type": "code",
      "source": [
        "# load the model\n",
        "new_model = Model() # same class of model for iris.\n",
        "new_model.load_state_dict(torch.load('iris_model.pt')) # loading the weights from training."
      ],
      "metadata": {
        "colab": {
          "base_uri": "https://localhost:8080/"
        },
        "id": "fh00l-Ua0V2D",
        "outputId": "57bc53af-a9fd-4030-d748-2d99ec00c53a"
      },
      "execution_count": null,
      "outputs": [
        {
          "output_type": "execute_result",
          "data": {
            "text/plain": [
              "<All keys matched successfully>"
            ]
          },
          "metadata": {},
          "execution_count": 66
        }
      ]
    }
  ]
}