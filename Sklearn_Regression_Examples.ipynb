{
  "nbformat": 4,
  "nbformat_minor": 0,
  "metadata": {
    "colab": {
      "provenance": []
    },
    "kernelspec": {
      "name": "python3",
      "display_name": "Python 3"
    },
    "language_info": {
      "name": "python"
    }
  },
  "cells": [
    {
      "cell_type": "code",
      "execution_count": 22,
      "metadata": {
        "id": "p31hgSIbZPN2"
      },
      "outputs": [],
      "source": [
        "import seaborn as sns\n",
        "import pandas as pd\n",
        "import numpy as np\n",
        "from sklearn.linear_model import LinearRegression\n",
        "from sklearn.linear_model import LogisticRegression\n",
        "from sklearn.model_selection import train_test_split\n",
        "import matplotlib.pyplot as plt\n",
        "from sklearn.metrics import r2_score"
      ]
    },
    {
      "cell_type": "markdown",
      "source": [
        "Linear Regression - One Dimension"
      ],
      "metadata": {
        "id": "XN2AJwh0aSgE"
      }
    },
    {
      "cell_type": "code",
      "source": [
        "iris = sns.load_dataset('iris')\n",
        "x = iris['petal_length']\n",
        "y = iris['petal_width']\n",
        "x_train, x_test, y_train, y_test = train_test_split(x,y,test_size=0.2)\n",
        "x11 = np.array(x_train).reshape(120,1) # needs to be a 2d array\n",
        "y11 = np.array(y_train).reshape(120,1)\n",
        "lr1 = LinearRegression()\n",
        "lr1.fit(x11,y11)\n",
        "a1 = lr1.intercept_\n",
        "m1 = lr1.coef_\n",
        "x1 = np.array(x_test).reshape(30,1)\n",
        "y1 = np.array(y_test).reshape(30,1)\n",
        "y1pred = m1*x1 + a1\n",
        "plt.scatter(x1,y1)\n",
        "plt.plot(x1,y1pred)\n"
      ],
      "metadata": {
        "id": "a7sQNFmhaRlD"
      },
      "execution_count": null,
      "outputs": []
    },
    {
      "cell_type": "markdown",
      "source": [
        "Multivariate Linear Regression"
      ],
      "metadata": {
        "id": "LbM74FNnfegp"
      }
    },
    {
      "cell_type": "code",
      "source": [
        "insur = pd.read_csv('/content/insurance.csv')\n",
        "insur['sex'] = insur['sex'].astype('category')\n",
        "insur['sex'] = insur['sex'].cat.codes # changes categoric variable to integer labels.\n",
        "insur['smoker'] = insur['smoker'].astype('category')\n",
        "insur['smoker'] = insur['smoker'].cat.codes\n",
        "insur['region'] = insur['region'].astype('category')\n",
        "insur['region'] = insur['region'].cat.codes\n",
        "# insur.isnull().sum()  checks if there are missing numbers\n",
        "inp = insur.drop(columns = 'expenses')\n",
        "out = insur['expenses']\n",
        "inp_train, inp_test, out_train, out_test = train_test_split(inp,out,test_size=0.2)\n",
        "lr2 = LinearRegression()\n",
        "lr2.fit(inp_train,out_train)\n",
        "a2 = lr2.intercept_\n",
        "m2 = lr2.coef_\n",
        "\n",
        "test_pred = lr2.predict(inp_test)\n",
        "plt.scatter(test_pred,out_test)\n",
        "plt.xlabel('prediction')\n",
        "plt.ylabel('actual')\n",
        "a = np.linspace(0,50000)\n",
        "plt.plot(a,a,'red')\n",
        "plt.show()\n",
        "r2_score(out_test,test_pred) # a score on the prediction. want to be close to 1.\n"
      ],
      "metadata": {
        "id": "eXoJfa2ufjHf"
      },
      "execution_count": null,
      "outputs": []
    },
    {
      "cell_type": "markdown",
      "source": [
        "Locally Weighted Regression"
      ],
      "metadata": {
        "id": "SYbTSVqSwCEo"
      }
    },
    {
      "cell_type": "code",
      "source": [
        "#inp.head()\n",
        "#tt = np.array(inp)\n",
        "np.zeros(13).shape"
      ],
      "metadata": {
        "colab": {
          "base_uri": "https://localhost:8080/"
        },
        "id": "YDh4lykLyipG",
        "outputId": "693e7818-6e2c-4dd2-aca6-bf97155b04d0"
      },
      "execution_count": 18,
      "outputs": [
        {
          "output_type": "execute_result",
          "data": {
            "text/plain": [
              "(13,)"
            ]
          },
          "metadata": {},
          "execution_count": 18
        }
      ]
    },
    {
      "cell_type": "code",
      "source": [
        "def weights(x): # the weights given a new input\n",
        "  w = np.zeros(1338)\n",
        "  for i in range(1338):\n",
        "    w[i] = np.exp(np.linalg.norm(x-np.array(inp)[i,:])*(-0.25))\n",
        "  return w\n",
        "def locreg(x): # prediciton on a new input\n",
        "  lrloc = LinearRegression()\n",
        "  inpw = np.array(inp)\n",
        "  outw = np.array(out)\n",
        "  for i in range(1338):\n",
        "    inpw[i,:] = weights(x)[i]*inpw[i,:]\n",
        "    outw[i] = weights(x)[i]*outw[i]\n",
        "    lrloc.fit(inpw,outw)\n",
        "    lrloc.predict(x)"
      ],
      "metadata": {
        "id": "JdtxhlyOwFbt"
      },
      "execution_count": 21,
      "outputs": []
    },
    {
      "cell_type": "markdown",
      "source": [
        "Logistic Regression"
      ],
      "metadata": {
        "id": "hXAONNcP4HuR"
      }
    },
    {
      "cell_type": "code",
      "source": [
        "titan = pd.read_csv('/content/titanic.csv')\n",
        "inpt = titan.drop(columns=['Name', 'Fare', 'Siblings/Spouses Aboard', 'Parents/Children Aboard','Survived'])\n",
        "inpt['Sex'] = inpt['Sex'].astype('category')\n",
        "inpt['Sex'] = inpt['Sex'].cat.codes\n",
        "outt = titan['Survived']\n",
        "inpt_train, inpt_test, outt_train, outt_test = train_test_split(inpt,outt,test_size=0.2)\n",
        "logr= LogisticRegression()\n",
        "logr.fit(inpt_train, outt_train)\n",
        "logr.score(inpt_test,outt_test) # the proportion of right predictions to example number.\n",
        "\n"
      ],
      "metadata": {
        "id": "CLrJZudZ4LuT"
      },
      "execution_count": null,
      "outputs": []
    },
    {
      "cell_type": "markdown",
      "source": [
        "Softmax Regression"
      ],
      "metadata": {
        "id": "uko8xOBJ-Su4"
      }
    },
    {
      "cell_type": "code",
      "source": [
        "mnist = pd.read_csv('/content/fashion-mnist_train.csv').dropna()\n",
        "minpt = mnist.drop(columns='label')\n",
        "mlab = mnist['label']\n"
      ],
      "metadata": {
        "id": "uOKSJkBS-VzR"
      },
      "execution_count": null,
      "outputs": []
    },
    {
      "cell_type": "code",
      "source": [
        "plt.imshow(np.array(minpt.iloc[22]).reshape(28,28,1)) # visualizing a specific image\\row."
      ],
      "metadata": {
        "id": "VTYr4tybBImT"
      },
      "execution_count": null,
      "outputs": []
    },
    {
      "cell_type": "code",
      "source": [
        "sm = LogisticRegression(max_iter=200).fit(minpt,mlab)\n"
      ],
      "metadata": {
        "id": "OxLZZOllCoEj"
      },
      "execution_count": null,
      "outputs": []
    },
    {
      "cell_type": "code",
      "source": [
        "sm.score(minpt,mlab)\n"
      ],
      "metadata": {
        "id": "L6Uo25opFDJa"
      },
      "execution_count": null,
      "outputs": []
    },
    {
      "cell_type": "code",
      "source": [
        "mnisttest = pd.read_csv('/content/fashion-mnist_test.csv').dropna()\n",
        "mtest = mnisttest.drop(columns='label')\n",
        "mlabtest = mnisttest['label']"
      ],
      "metadata": {
        "id": "jeaGjexPFKUT"
      },
      "execution_count": 89,
      "outputs": []
    },
    {
      "cell_type": "code",
      "source": [
        "sm.score(mtest,mlabtest)"
      ],
      "metadata": {
        "id": "4Hx2c6c1FaKc"
      },
      "execution_count": null,
      "outputs": []
    }
  ]
}