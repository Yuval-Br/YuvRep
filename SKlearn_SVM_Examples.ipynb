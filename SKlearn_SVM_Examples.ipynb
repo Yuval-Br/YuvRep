{
  "nbformat": 4,
  "nbformat_minor": 0,
  "metadata": {
    "colab": {
      "provenance": []
    },
    "kernelspec": {
      "name": "python3",
      "display_name": "Python 3"
    },
    "language_info": {
      "name": "python"
    }
  },
  "cells": [
    {
      "cell_type": "code",
      "execution_count": null,
      "metadata": {
        "id": "fyjhAEo802gL"
      },
      "outputs": [],
      "source": [
        "import pandas as pd\n",
        "from sklearn.model_selection import train_test_split\n",
        "from sklearn.preprocessing import StandardScaler\n",
        "from sklearn.svm import SVR, SVC\n",
        "from sklearn.metrics import mean_absolute_error"
      ]
    },
    {
      "cell_type": "markdown",
      "source": [
        "Data Importing, Processing and Scaling"
      ],
      "metadata": {
        "id": "nEXOzHVy42sE"
      }
    },
    {
      "cell_type": "code",
      "source": [
        "df1 = pd.read_csv('/content/Housing_1.csv')\n",
        "df1.head()\n",
        "x1 = df1.drop(columns=['price','Unnamed: 0'])\n",
        "y1 = df1['price']\n",
        "x1_train, x1_test, y1_train, y1_test = train_test_split(x1,y1,test_size=0.2)\n"
      ],
      "metadata": {
        "id": "dkpSYNyr1a_e"
      },
      "execution_count": null,
      "outputs": []
    },
    {
      "cell_type": "code",
      "source": [
        "scaler = StandardScaler()\n",
        "x1_train = scaler.fit_transform(x1_train) # standartizing the training data.\n",
        "x1_test = scaler.transform(x1_test)  # standartizing the test data, with the same mean and var from train."
      ],
      "metadata": {
        "id": "a50Rh8FD1n0O"
      },
      "execution_count": null,
      "outputs": []
    },
    {
      "cell_type": "markdown",
      "source": [
        "SVM"
      ],
      "metadata": {
        "id": "N_RaQrtK4-Qd"
      }
    },
    {
      "cell_type": "code",
      "source": [
        "svr = SVR().fit(x1_train,y1_train)\n",
        "y1_pred1 = svr.predict(x1_test)\n",
        "err1 = mean_absolute_error(y1_pred1, y1_test)\n",
        "err1"
      ],
      "metadata": {
        "colab": {
          "base_uri": "https://localhost:8080/"
        },
        "id": "InYhjLYH4ypw",
        "outputId": "c03f8b7c-8273-4aa4-bfc4-5dc6081bf9e1"
      },
      "execution_count": null,
      "outputs": [
        {
          "output_type": "execute_result",
          "data": {
            "text/plain": [
              "1424513.7539152554"
            ]
          },
          "metadata": {},
          "execution_count": 30
        }
      ]
    },
    {
      "cell_type": "markdown",
      "source": [
        "Kernel SVM"
      ],
      "metadata": {
        "id": "o0dqmwTl6DrL"
      }
    },
    {
      "cell_type": "code",
      "source": [
        "ksvm = SVR(kernel='linear').fit(x1_train,y1_train) # default kernel is gaussian\n",
        "y1_pred2 = ksvm.predict(x1_test)\n",
        "err2 = mean_absolute_error(y1_pred2, y1_test)\n",
        "err2"
      ],
      "metadata": {
        "colab": {
          "base_uri": "https://localhost:8080/"
        },
        "id": "7kWfWxd26DAo",
        "outputId": "6fcf56bb-2368-455f-d68e-01710e5cc022"
      },
      "execution_count": null,
      "outputs": [
        {
          "output_type": "execute_result",
          "data": {
            "text/plain": [
              "1423972.0597742016"
            ]
          },
          "metadata": {},
          "execution_count": 32
        }
      ]
    },
    {
      "cell_type": "markdown",
      "source": [
        "Soft Margin SVM"
      ],
      "metadata": {
        "id": "5yY7pu8Z8S6L"
      }
    },
    {
      "cell_type": "code",
      "source": [
        "csvm = SVC(kernel='poly', C= 0.01).fit(x1_train,y1_train) # C is the margin penalty\n",
        "y1_pred3 = csvm.predict(x1_test)\n",
        "err3 = mean_absolute_error(y1_pred3, y1_test)\n",
        "err3"
      ],
      "metadata": {
        "colab": {
          "base_uri": "https://localhost:8080/"
        },
        "id": "DkX-zZso8XTm",
        "outputId": "2942c768-d7c7-4281-8076-ee7046c867e0"
      },
      "execution_count": null,
      "outputs": [
        {
          "output_type": "execute_result",
          "data": {
            "text/plain": [
              "1697917.4311926605"
            ]
          },
          "metadata": {},
          "execution_count": 36
        }
      ]
    }
  ]
}