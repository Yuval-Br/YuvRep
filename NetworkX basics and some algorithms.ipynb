{
  "nbformat": 4,
  "nbformat_minor": 0,
  "metadata": {
    "colab": {
      "provenance": []
    },
    "kernelspec": {
      "name": "python3",
      "display_name": "Python 3"
    },
    "language_info": {
      "name": "python"
    }
  },
  "cells": [
    {
      "cell_type": "code",
      "execution_count": 6,
      "metadata": {
        "id": "fiJ2nBUG79l0"
      },
      "outputs": [],
      "source": [
        "import numpy as np\n",
        "import networkx as nx\n",
        "import matplotlib as plt\n",
        "\n",
        "G1=nx.Graph()  # simple undirected graph\n",
        "G2=nx.DiGraph()  #  simple directed graph\n",
        "F1=nx.MultiGraph() # non-simple undirected graph\n",
        "F2=nx.MultiDiGraph() # non-simple directed graph\n",
        "\n",
        "E=[(0,1),(0,4),(2,3),(2,4),(1,4)] # create a graph with the set of edges.\n",
        "G4=nx.Graph(E)\n",
        "\n",
        "G1.add_edge(0,1) # adding an edge , also adds nodes if don't exist\n",
        "G1.add_edge(1,2, weight=4) # can also add weighted edges (default=1)\n",
        "G1.add_node(3) # same with nodes. They can be any object\n",
        "edge_list= [(1,3),(0,3),(3,4), (2,3)]\n",
        "G1.add_edges_from(edge_list) # add a set of edges\n",
        "weighted_edges=[(0,1,3),(0,2,6),(1,3,2)]\n",
        "G2.add_weighted_edges_from(weighted_edges)  # add weightd edges\n",
        "#nx.draw_shell(G1, with_labels=True) # drawing a graph, different shapes: nx.draw_'shape'\n",
        "\n",
        "#print(nx.adjacency_matrix(G1)) # shows the weight of edge (i,j) (if exists)\n",
        "\n",
        "a=np.array([[0,1,1],[0,0,1],[1,1,1]])\n",
        "G3=nx.from_numpy_array(a) # a simple undirected graph from a matrix\n",
        "#nx.draw_planar(G3,with_labels=True)\n",
        "\n",
        "#print(G1.nodes, G1.edges) # list of nodes, list of edges. not actually in list format.\n",
        "#print(list(G1.nodes), list(G1.edges), type(list(G1.edges)[0]), type(list(G1.edges)[0][1]), type(list(G1.nodes)[0]))\n",
        "\n",
        "# print(G1.degree(1)) # degree of a node\n",
        "# print(dict(G1.degree)) # all the nodes, as a dictionary\n",
        "\n",
        "#print(nx.shortest_path(G1,1,2)) # returns shortest path in array form. default weight is 1 for all edges.\n",
        "#print(nx.shortest_path(G1,1,2,weight='weight')) # with weights.\n",
        "\n",
        "# print(nx.diameter(G1),nx.density(G1), list(nx.eulerian_path(G1))) # some graph properties. error if no eyler path\n",
        "\n",
        "# print(list(nx.find_cliques(G1))) # all graph cliques in a list of arrays\n",
        "\n",
        "# print(list(nx.connected_components(G1))) # a list of all connected components"
      ]
    },
    {
      "cell_type": "code",
      "source": [
        "# Prim\n",
        "\n",
        "def myprim(G):\n",
        "  if len(list(nx.connected_components(G))) != 1:\n",
        "    print('graph not connected or empty')\n",
        "  else:\n",
        "    n = len(list(G.nodes))\n",
        "    s = [0]\n",
        "    f = []\n",
        "    p = nx.shortest_path(G)\n",
        "    while len(s) != n:\n",
        "     a = list(G.nodes)\n",
        "     for m in s:\n",
        "      a.remove(m)\n",
        "      b = []\n",
        "     for i in s:\n",
        "      for j in a:\n",
        "        if (i,j) in list(G.edges):\n",
        "          b.append((i,j,p[i][j]))\n",
        "     e = min(b, key=lambda tup: tup[2])\n",
        "     f.append((e[0], e[1]))\n",
        "     s.append(e[1])\n",
        "  print(f)\n",
        "\n",
        "\n",
        "\n",
        "\n",
        "\n",
        "\n",
        "\n",
        "\n"
      ],
      "metadata": {
        "id": "yZ62qFwyRVLD"
      },
      "execution_count": 7,
      "outputs": []
    },
    {
      "cell_type": "code",
      "source": [
        "# greedy vertex cover\n",
        "def gvc(G):\n",
        "  if len(list(G.edges)) == 0:\n",
        "    return []\n",
        "  else:\n",
        "    d = [(i,G.degree(i)) for i in list(G.nodes)]\n",
        "    v = max(d, key=lambda tup: tup[1])\n",
        "    G.remove_node(v[0])\n",
        "    return [v[0]]+gvc(G)\n",
        "\n"
      ],
      "metadata": {
        "id": "guxeZw4XKABa"
      },
      "execution_count": 90,
      "outputs": []
    }
  ]
}
